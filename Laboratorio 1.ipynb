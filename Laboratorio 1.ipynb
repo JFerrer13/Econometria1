{
 "cells": [
  {
   "cell_type": "markdown",
   "metadata": {},
   "source": [
    "# Parte #1 - (Programación y Sintaxis)\n",
    "A continuación se le muestran una lista de ejercicios que deberá completar utilizando Python, debe usar Markdown para indicar donde inicia cada uno de los ejercicios."
   ]
  },
  {
   "cell_type": "markdown",
   "metadata": {},
   "source": [
    "### 1\n",
    "Haga un programa en Python que reciba de parámetro un número de segundos y que despliegue en pantalla, las horas, minutos y segundos que representan.\n"
   ]
  },
  {
   "cell_type": "code",
   "execution_count": null,
   "metadata": {},
   "outputs": [],
   "source": [
    "def segundos_a_horas_minutos_segundos(segundos):\n",
    "    horas = segundos // 3600\n",
    "    segundos = segundos % 3600\n",
    "    minutos = segundos // 60\n",
    "    segundos = segundos % 60\n",
    "    return horas, minutos, segundos\n",
    "\n",
    "def ejercicio_1(segundos)_\n",
    "    horas, minutos, segundos = segundos_a_horas_minutos_segundos(segundos)\n",
    "    print(f\"{horas}h {minutos}m {segundos}s\")\n",
    "\n",
    "ejercicio_1(3661)"
   ]
  },
  {
   "cell_type": "markdown",
   "metadata": {},
   "source": [
    "### 2\n",
    "Haga un programa en Python que la fecha de nacimiento de una persona (puede ingresar por separado cada valor, es decir pedir primero día, luego mes y luego año), despliegue la edad de la persona en años, meses y días. Su resultado puede ser aproximado."
   ]
  },
  {
   "cell_type": "code",
   "execution_count": null,
   "metadata": {},
   "outputs": [
    {
     "name": "stdout",
     "output_type": "stream",
     "text": [
      "Edad: 31 años, 4 meses, 4 días\n"
     ]
    }
   ],
   "source": [
    "from datetime import datetime\n",
    "\n",
    "def fecha_a_años_meses_dias(dia_nacimiento, mes_nacimiento, año_nacimiento):\n",
    "    fecha_nacimiento = datetime(año_nacimiento, mes_nacimiento, dia_nacimiento)\n",
    "    fecha_actual = datetime.now()\n",
    "    \n",
    "    años = fecha_actual.year - fecha_nacimiento.year\n",
    "    meses = fecha_actual.month - fecha_nacimiento.month\n",
    "    dias = fecha_actual.day - fecha_nacimiento.day\n",
    "    \n",
    "    if dias < 0:\n",
    "        meses -= 1\n",
    "        dias += (fecha_actual - datetime(fecha_actual.year, fecha_actual.month, 1)).days\n",
    "    \n",
    "    if meses < 0:\n",
    "        años -= 1\n",
    "        meses += 12\n",
    "    \n",
    "    return años, meses, dias\n",
    "\n",
    "def ejercicio_2():\n",
    "    dia = int(input(\"Ingrese el día de nacimiento: \"))\n",
    "    mes = int(input(\"Ingrese el mes de nacimiento: \"))\n",
    "    año = int(input(\"Ingrese el año de nacimiento: \"))\n",
    "\n",
    "    edad_años, edad_meses, edad_dias = fecha_a_años_meses_dias(dia, mes, año)\n",
    "\n",
    "    print(f\"Tu edad es: {edad_años} años, {edad_meses} meses y {edad_dias} días.\")\n",
    "\n",
    "ejercicio_2()"
   ]
  },
  {
   "cell_type": "markdown",
   "metadata": {},
   "source": [
    "## 3\n",
    "Escriba una función en Python que dada una tupla de elementos (números o letras) esta se convierta a un string."
   ]
  },
  {
   "cell_type": "code",
   "execution_count": 4,
   "metadata": {},
   "outputs": [
    {
     "data": {
      "text/plain": [
       "'123abc'"
      ]
     },
     "execution_count": 4,
     "metadata": {},
     "output_type": "execute_result"
    }
   ],
   "source": [
    "def tupla_a_string(tupla):\n",
    "    return ''.join(map(str, tupla))\n",
    "\n",
    "def ejercicio_3():\n",
    "    entradas = []\n",
    "    while True:\n",
    "        entrada = input(\"Ingrese un número o letra (deje vacío para terminar): \")\n",
    "        if entrada == \"\":\n",
    "            break\n",
    "        entradas.append(entrada)\n",
    "\n",
    "    return tupla_a_string(entradas)\n",
    "\n",
    "ejercicio_3()"
   ]
  },
  {
   "cell_type": "markdown",
   "metadata": {},
   "source": [
    "## 4\n",
    "Cree un programa en Python que dada una lista de tuplas, elimine las tuplas que están vacías."
   ]
  },
  {
   "cell_type": "code",
   "execution_count": 6,
   "metadata": {},
   "outputs": [
    {
     "data": {
      "text/plain": [
       "[('X',), ('a', 'b'), ('a', 'b', 'c'), 'd']"
      ]
     },
     "execution_count": 6,
     "metadata": {},
     "output_type": "execute_result"
    }
   ],
   "source": [
    "def ejercicio_4(tuplas):\n",
    "    return list(filter(lambda x: x != (), tuplas))\n",
    "\n",
    "ejercicio_4( [(), (), ('X',), ('a', 'b'), ('a', 'b', 'c'), ('d')])"
   ]
  },
  {
   "cell_type": "markdown",
   "metadata": {},
   "source": [
    "## 5\n",
    "Cree una función en Python que dada una lista de tuplas con números enteros, produzca una\n",
    "tupla con el promedio de cada tupla individual, debe usar comprehensions para desarrollar\n",
    "este ejercicio."
   ]
  },
  {
   "cell_type": "code",
   "execution_count": 7,
   "metadata": {},
   "outputs": [
    {
     "data": {
      "text/plain": [
       "[2.0, 5.0, 8.0, 11.0]"
      ]
     },
     "execution_count": 7,
     "metadata": {},
     "output_type": "execute_result"
    }
   ],
   "source": [
    "def promedio_tupla(tupla):\n",
    "    return sum(tupla) / len(tupla) if tupla else 0\n",
    "\n",
    "def promedios_lista_tuplas(lista_tuplas):\n",
    "    return [promedio_tupla(tupla) for tupla in lista_tuplas]\n",
    "\n",
    "def ejercicio_5():\n",
    "    lista_tuplas = [(1, 2, 3), (4, 5, 6), (7, 8, 9), (10, 11, 12)]\n",
    "    return promedios_lista_tuplas(lista_tuplas)\n",
    "ejercicio_5()"
   ]
  },
  {
   "cell_type": "markdown",
   "metadata": {},
   "source": [
    "## 6\n",
    "Escribir un programa que gestione las facturas pendientes de cobro de una empresa. Las facturas se almacenarán en un diccionario donde la llave de cada factura será el número de factura (debe utilizar un numero de 4 dígitos) y el valor el coste de la factura. El programa debe preguntar al usuario si quiere añadir una nueva factura, pagar una existente o terminar. Si desea añadir una nueva factura se preguntará por el número de factura y su coste y se añadirá al diccionario, para confirmar que la factura se ingreso correctamente el programa debe desplegar el diccionario completo. Si se desea pagar una factura se preguntará por el número de factura y se eliminará del diccionario. Después de cada operación el programa debe mostrar en pantalla la cantidad cobrada hasta el momento y la cantidad pendiente de cobro. Puede utilizar otras estructuras de datos como apoyo si lo considera necesario. "
   ]
  },
  {
   "cell_type": "code",
   "execution_count": 11,
   "metadata": {},
   "outputs": [
    {
     "name": "stdout",
     "output_type": "stream",
     "text": [
      "Factura 1354 agregada con monto 450.0.\n",
      "Factura 1354 agregada con monto 450.0.\n",
      "Facturas actuales: {'1354': 450.0}\n",
      "Factura 1354 eliminada.\n",
      "Facturas número 1354 ha sido pagada.\n",
      "Facturas actuales: {}\n",
      "El número de factura debe tener exactamente 4 dígitos.\n",
      "Factura 125 agregada con monto 150.0.\n",
      "Facturas actuales: {}\n"
     ]
    }
   ],
   "source": [
    "facturas = {}\n",
    "\n",
    "def añadir_factura(numero_factura, monto):\n",
    "    if len(numero_factura) == 4 and numero_factura.isdigit():\n",
    "        facturas[numero_factura] = monto\n",
    "        print(f\"Factura {numero_factura} agregada con monto {monto}.\")\n",
    "    else:\n",
    "        print(\"El número de factura debe tener exactamente 4 dígitos.\")\n",
    "\n",
    "def pagar_factura(numero_factura):\n",
    "    if numero_factura in facturas:\n",
    "        del facturas[numero_factura]\n",
    "        print(f\"Factura {numero_factura} eliminada.\")\n",
    "    else:\n",
    "        print(f\"No se encontró la factura con número {numero_factura}.\")\n",
    "\n",
    "def ejercicio_6():\n",
    "    while True:\n",
    "        accion = input(\"¿Desea agregar o pagar una factura? (escriba 'agregar', 'pagar' o 'salir'): \").strip().lower()\n",
    "        \n",
    "        if accion == \"salir\":\n",
    "            break\n",
    "        elif accion == \"agregar\":\n",
    "            numero_factura = input(\"Ingrese el número de factura: \").strip()\n",
    "            monto = float(input(\"Ingrese el monto de la factura: \").strip())\n",
    "            añadir_factura(numero_factura, monto)\n",
    "        elif accion == \"pagar\":\n",
    "            numero_factura = input(\"Ingrese el número de la factura a pagar: \").strip()\n",
    "            pagar_factura(numero_factura)\n",
    "            print(f\"Facturas número {numero_factura} ha sido pagada.\")\n",
    "        else:\n",
    "            print(\"Acción no reconocida. Por favor, escriba 'agregar', 'pagar' o 'salir'.\")\n",
    "        \n",
    "        print(\"Facturas actuales:\", facturas)\n",
    "\n",
    "ejercicio_6()"
   ]
  },
  {
   "cell_type": "markdown",
   "metadata": {},
   "source": [
    "## 7\n",
    "Haga una función en Python, que cree un set con todas las cartas de una baraja de Pocker utilizando el siguiente formato: Tipo-Numero. Utilice las letras T para tréboles, C para corazones, P para picas y E para espadas. Para los números utilice la numeración del 1 al 13. Por ejemplo E13 - sería Rey de Espadas, P01 sería As de Picas, T05 sería cinco de Tréboles.\n",
    "\n",
    "Posteriormente cree una función que dado el conjunto anterior cree dos sets nuevos de cartas, cada mazo_ debe tener una cantidad variable de elementos, puede utilizar números aleatorios enteros para definir la longitud de los conjuntos.\n",
    "\n",
    "Adicionalmente, deberá calcular la probabilidad de la intersección de ambos conjuntos y demuestre si son eventos independientes con la regla del producto.\n",
    "\n",
    "Para concluir, calcule probabilidad de la unión de ambos conjuntos y demuestre que se cumple la regla de la adición."
   ]
  },
  {
   "cell_type": "code",
   "execution_count": 16,
   "metadata": {},
   "outputs": [
    {
     "name": "stdout",
     "output_type": "stream",
     "text": [
      "Mazo 1: {'E13', 'C13', 'C04', 'P12', 'E09', 'C05', 'T03', 'C02', 'C08', 'E05', 'C10', 'P01', 'P11', 'T10', 'T06', 'T04', 'E11', 'E03', 'E10', 'C11', 'E07', 'P07', 'E02', 'P02', 'C07', 'T01', 'P06', 'P04', 'C03', 'P09', 'T13'}\n",
      "Mazo 2: {'P03', 'C12', 'E01', 'T11', 'E08', 'E04', 'T08', 'C09', 'T05', 'T07', 'T09', 'E06', 'P05', 'C01', 'P08', 'T12', 'T02', 'C06', 'P13', 'P10', 'E12'}\n"
     ]
    }
   ],
   "source": [
    "import random\n",
    "\n",
    "def crear_baraja():\n",
    "    tipos = ['T', 'C', 'P', 'E']\n",
    "    numeros = range(1, 14)\n",
    "    baraja = {f\"{tipo}{str(numero).zfill(2)}\" for tipo in tipos for numero in numeros}\n",
    "    return baraja\n",
    "\n",
    "\n",
    "def dividir_baraja(baraja):\n",
    "    baraja_lista = list(baraja)\n",
    "    random.shuffle(baraja_lista)\n",
    "    longitud_mazo_1 = random.randint(1, len(baraja_lista) - 1)\n",
    "    mazo_1 = set(baraja_lista[:longitud_mazo_1])\n",
    "    mazo_2 = set(baraja_lista[longitud_mazo_1:])\n",
    "    return mazo_1, mazo_2\n",
    "\n",
    "baraja = crear_baraja()\n",
    "\n",
    "mazo_1, mazo_2 = dividir_baraja(baraja)\n",
    "\n",
    "print(\"Mazo 1:\", mazo_1)\n",
    "print(\"Mazo 2:\", mazo_2)"
   ]
  }
 ],
 "metadata": {
  "kernelspec": {
   "display_name": "Python 3",
   "language": "python",
   "name": "python3"
  },
  "language_info": {
   "codemirror_mode": {
    "name": "ipython",
    "version": 3
   },
   "file_extension": ".py",
   "mimetype": "text/x-python",
   "name": "python",
   "nbconvert_exporter": "python",
   "pygments_lexer": "ipython3",
   "version": "3.11.9"
  }
 },
 "nbformat": 4,
 "nbformat_minor": 2
}
